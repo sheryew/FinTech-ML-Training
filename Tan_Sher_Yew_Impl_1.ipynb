{
  "cells": [
    {
      "cell_type": "code",
      "execution_count": null,
      "metadata": {
        "id": "Oi5Y_vBFdptK"
      },
      "outputs": [],
      "source": [
        "import pandas_datareader as pdr"
      ]
    },
    {
      "cell_type": "code",
      "execution_count": null,
      "metadata": {
        "colab": {
          "base_uri": "https://localhost:8080/"
        },
        "id": "hIESdVc7dbqi",
        "outputId": "0b11a1da-29f8-4801-93dd-f070a86465ad"
      },
      "outputs": [
        {
          "name": "stderr",
          "output_type": "stream",
          "text": [
            "/usr/local/lib/python3.7/dist-packages/pandas_datareader/tiingo.py:234: FutureWarning: In a future version of pandas all arguments of concat except for the argument 'objs' will be keyword-only\n",
            "  return pd.concat(dfs, self._concat_axis)\n"
          ]
        }
      ],
      "source": [
        "key = '8610ff98c24472d674688b2722b11f83566a296d'\n",
        "df = pdr.get_data_tiingo('NVDA', api_key = key)"
      ]
    },
    {
      "cell_type": "code",
      "execution_count": null,
      "metadata": {
        "id": "sNhI-rgPd-MX"
      },
      "outputs": [],
      "source": [
        "df.to_csv('NVDA.csv')"
      ]
    },
    {
      "cell_type": "code",
      "execution_count": null,
      "metadata": {
        "id": "XThYAPileDC-"
      },
      "outputs": [],
      "source": [
        "import pandas as pd\n",
        "df = pd.read_csv('NVDA.csv')"
      ]
    },
    {
      "cell_type": "code",
      "execution_count": null,
      "metadata": {
        "id": "EU-EA2zheepJ"
      },
      "outputs": [],
      "source": [
        "df1 = df.reset_index()['close']"
      ]
    },
    {
      "cell_type": "code",
      "execution_count": null,
      "metadata": {
        "colab": {
          "base_uri": "https://localhost:8080/"
        },
        "id": "CdcChI2XelaT",
        "outputId": "ef1e89a1-c52a-44c3-8f9c-770b055d3858"
      },
      "outputs": [
        {
          "data": {
            "text/plain": [
              "(1259,)"
            ]
          },
          "execution_count": 66,
          "metadata": {},
          "output_type": "execute_result"
        }
      ],
      "source": [
        "df1.shape"
      ]
    },
    {
      "cell_type": "code",
      "execution_count": null,
      "metadata": {
        "colab": {
          "base_uri": "https://localhost:8080/",
          "height": 282
        },
        "id": "jGJ0OvSwe0Qi",
        "outputId": "ab050243-9595-4b41-a303-3277a2d197f7"
      },
      "outputs": [
        {
          "data": {
            "text/plain": [
              "[<matplotlib.lines.Line2D at 0x7f25872bee50>]"
            ]
          },
          "execution_count": 67,
          "metadata": {},
          "output_type": "execute_result"
        },
        {
          "data": {
            "image/png": "[encoded data removed]",
            "text/plain": [
              "<Figure size 432x288 with 1 Axes>"
            ]
          },
          "metadata": {},
          "output_type": "display_data"
        }
      ],
      "source": [
        "import matplotlib.pyplot as plt\n",
        "plt.plot(df1)"
      ]
    },
    {
      "cell_type": "code",
      "execution_count": null,
      "metadata": {
        "id": "MCbX-REMfF6u"
      },
      "outputs": [],
      "source": [
        "import numpy as np\n",
        "from sklearn.preprocessing import MinMaxScaler"
      ]
    },
    {
      "cell_type": "code",
      "execution_count": null,
      "metadata": {
        "id": "Vs6Pw01IfS2a"
      },
      "outputs": [],
      "source": [
        "scaler = MinMaxScaler(feature_range=(0,1))\n",
        "df1 = scaler.fit_transform(np.array(df1).reshape(-1,1))"
      ]
    },
    {
      "cell_type": "code",
      "execution_count": null,
      "metadata": {
        "colab": {
          "base_uri": "https://localhost:8080/"
        },
        "id": "ySH9vA3Xfg_x",
        "outputId": "7a1cd117-8be5-4c28-d1a5-047fb3972588"
      },
      "outputs": [
        {
          "data": {
            "text/plain": [
              "array([[0.11786158],\n",
              "       [0.12074001],\n",
              "       [0.1137256 ],\n",
              "       ...,\n",
              "       [0.01151369],\n",
              "       [0.01351181],\n",
              "       [0.01731245]])"
            ]
          },
          "execution_count": 70,
          "metadata": {},
          "output_type": "execute_result"
        }
      ],
      "source": [
        "df1"
      ]
    },
    {
      "cell_type": "code",
      "execution_count": null,
      "metadata": {
        "id": "9ZhTRv-BfpTK"
      },
      "outputs": [],
      "source": [
        "training_size = int(len(df1)*0.65)\n",
        "test_size = len(df1)-training_size\n",
        "train_data, test_data = df1[0:training_size, :], df1[training_size:len(df1),:1]\n"
      ]
    },
    {
      "cell_type": "code",
      "execution_count": null,
      "metadata": {
        "id": "xeK7y7Q-gvRY"
      },
      "outputs": [],
      "source": [
        "import numpy\n",
        "# convert an array of values into a dataset matrix\n",
        "def create_dataset(dataset, time_step=1):\n",
        "\tdataX, dataY = [], []\n",
        "\tfor i in range(len(dataset)-time_step-1):\n",
        "\t\ta = dataset[i:(i+time_step), 0]   ###i=0, 0,1,2,3-----99   100 \n",
        "\t\tdataX.append(a)\n",
        "\t\tdataY.append(dataset[i + time_step, 0])\n",
        "\treturn numpy.array(dataX), numpy.array(dataY)"
      ]
    },
    {
      "cell_type": "code",
      "execution_count": null,
      "metadata": {
        "id": "pPxwQlf_iCxv"
      },
      "outputs": [],
      "source": [
        "time_step = 100\n",
        "X_train, y_train = create_dataset(train_data, time_step)\n",
        "X_test, ytest = create_dataset(test_data, time_step)"
      ]
    },
    {
      "cell_type": "code",
      "execution_count": null,
      "metadata": {
        "id": "8yiayYiuiFuN"
      },
      "outputs": [],
      "source": [
        "# reshape input to be [samples, time steps, features] which is required for LSTM\n",
        "X_train =X_train.reshape(X_train.shape[0],X_train.shape[1] , 1)\n",
        "X_test = X_test.reshape(X_test.shape[0],X_test.shape[1] , 1)"
      ]
    },
    {
      "cell_type": "code",
      "execution_count": null,
      "metadata": {
        "id": "8WYQ4n-0i0Zl"
      },
      "outputs": [],
      "source": [
        "### Create the Stacked LSTM model\n",
        "from tensorflow.keras.models import Sequential\n",
        "from tensorflow.keras.layers import Dense\n",
        "from tensorflow.keras.layers import LSTM"
      ]
    },
    {
      "cell_type": "code",
      "execution_count": null,
      "metadata": {
        "id": "Znsr327Zi3ul"
      },
      "outputs": [],
      "source": [
        "model=Sequential()\n",
        "model.add(LSTM(50,return_sequences=True,input_shape=(100,1)))\n",
        "model.add(LSTM(50,return_sequences=True))\n",
        "model.add(LSTM(50))\n",
        "model.add(Dense(1))\n",
        "model.compile(loss='mean_squared_error',optimizer='adam')"
      ]
    },
    {
      "cell_type": "code",
      "execution_count": null,
      "metadata": {
        "colab": {
          "background_save": true,
          "base_uri": "https://localhost:8080/"
        },
        "id": "0ayelDOwi9DZ",
        "outputId": "a89ed8f6-86de-4504-9882-97df15fc92e7"
      },
      "outputs": [
        {
          "name": "stdout",
          "output_type": "stream",
          "text": [
            "Epoch 1/100\n",
            "12/12 [==============================] - 6s 209ms/step - loss: 0.0330 - val_loss: 0.0189\n",
            "Epoch 2/100\n",
            "12/12 [==============================] - 1s 120ms/step - loss: 0.0042 - val_loss: 0.0293\n",
            "Epoch 3/100\n",
            "12/12 [==============================] - 1s 125ms/step - loss: 0.0015 - val_loss: 0.0242\n",
            "Epoch 4/100\n",
            "12/12 [==============================] - 2s 171ms/step - loss: 0.0012 - val_loss: 0.0205\n",
            "Epoch 5/100\n",
            "12/12 [==============================] - 3s 221ms/step - loss: 9.9146e-04 - val_loss: 0.0214\n",
            "Epoch 6/100\n",
            "12/12 [==============================] - 2s 125ms/step - loss: 8.7659e-04 - val_loss: 0.0185\n",
            "Epoch 7/100\n",
            "12/12 [==============================] - 1s 125ms/step - loss: 8.7883e-04 - val_loss: 0.0169\n",
            "Epoch 8/100\n",
            "12/12 [==============================] - 1s 124ms/step - loss: 8.4483e-04 - val_loss: 0.0176\n",
            "Epoch 9/100\n",
            "12/12 [==============================] - 1s 121ms/step - loss: 8.4336e-04 - val_loss: 0.0184\n",
            "Epoch 10/100\n",
            "12/12 [==============================] - 1s 119ms/step - loss: 8.3867e-04 - val_loss: 0.0180\n",
            "Epoch 11/100\n",
            "12/12 [==============================] - 2s 129ms/step - loss: 7.9087e-04 - val_loss: 0.0165\n",
            "Epoch 12/100\n",
            "12/12 [==============================] - 2s 128ms/step - loss: 7.5120e-04 - val_loss: 0.0154\n",
            "Epoch 13/100\n",
            "12/12 [==============================] - 1s 121ms/step - loss: 7.3770e-04 - val_loss: 0.0153\n",
            "Epoch 14/100\n",
            "12/12 [==============================] - 1s 125ms/step - loss: 7.4953e-04 - val_loss: 0.0148\n",
            "Epoch 15/100\n",
            "12/12 [==============================] - 1s 119ms/step - loss: 7.3033e-04 - val_loss: 0.0153\n",
            "Epoch 16/100\n",
            "12/12 [==============================] - 1s 118ms/step - loss: 6.9817e-04 - val_loss: 0.0147\n",
            "Epoch 17/100\n",
            "12/12 [==============================] - 1s 119ms/step - loss: 6.8513e-04 - val_loss: 0.0136\n",
            "Epoch 18/100\n",
            "12/12 [==============================] - 1s 119ms/step - loss: 7.1650e-04 - val_loss: 0.0138\n",
            "Epoch 19/100\n",
            "12/12 [==============================] - 2s 126ms/step - loss: 7.2046e-04 - val_loss: 0.0132\n",
            "Epoch 20/100\n",
            "12/12 [==============================] - 2s 127ms/step - loss: 8.4687e-04 - val_loss: 0.0126\n",
            "Epoch 21/100\n",
            "12/12 [==============================] - 1s 123ms/step - loss: 7.6049e-04 - val_loss: 0.0130\n",
            "Epoch 22/100\n",
            "12/12 [==============================] - 1s 124ms/step - loss: 7.8980e-04 - val_loss: 0.0152\n",
            "Epoch 23/100\n",
            "12/12 [==============================] - 1s 121ms/step - loss: 8.1638e-04 - val_loss: 0.0138\n",
            "Epoch 24/100\n",
            "12/12 [==============================] - 1s 125ms/step - loss: 6.2804e-04 - val_loss: 0.0128\n",
            "Epoch 25/100\n",
            "12/12 [==============================] - 2s 126ms/step - loss: 6.7104e-04 - val_loss: 0.0129\n",
            "Epoch 26/100\n",
            "12/12 [==============================] - 1s 121ms/step - loss: 6.1348e-04 - val_loss: 0.0129\n",
            "Epoch 27/100\n",
            "12/12 [==============================] - 1s 124ms/step - loss: 6.2105e-04 - val_loss: 0.0122\n",
            "Epoch 28/100\n",
            "12/12 [==============================] - 2s 185ms/step - loss: 6.0640e-04 - val_loss: 0.0120\n",
            "Epoch 29/100\n",
            "12/12 [==============================] - 2s 126ms/step - loss: 5.9751e-04 - val_loss: 0.0126\n",
            "Epoch 30/100\n",
            "12/12 [==============================] - 1s 124ms/step - loss: 7.0412e-04 - val_loss: 0.0119\n",
            "Epoch 31/100\n",
            "12/12 [==============================] - 1s 122ms/step - loss: 6.0210e-04 - val_loss: 0.0127\n",
            "Epoch 32/100\n",
            "12/12 [==============================] - 2s 126ms/step - loss: 6.3105e-04 - val_loss: 0.0118\n",
            "Epoch 33/100\n",
            "12/12 [==============================] - 2s 131ms/step - loss: 5.9319e-04 - val_loss: 0.0115\n",
            "Epoch 34/100\n",
            "12/12 [==============================] - 2s 128ms/step - loss: 6.0980e-04 - val_loss: 0.0112\n",
            "Epoch 35/100\n",
            "12/12 [==============================] - 1s 123ms/step - loss: 6.1181e-04 - val_loss: 0.0105\n",
            "Epoch 36/100\n",
            "12/12 [==============================] - 1s 123ms/step - loss: 5.9302e-04 - val_loss: 0.0112\n",
            "Epoch 37/100\n",
            "12/12 [==============================] - 1s 123ms/step - loss: 5.7461e-04 - val_loss: 0.0103\n",
            "Epoch 38/100\n",
            "12/12 [==============================] - 1s 126ms/step - loss: 5.7405e-04 - val_loss: 0.0105\n",
            "Epoch 39/100\n",
            "12/12 [==============================] - 2s 127ms/step - loss: 5.4950e-04 - val_loss: 0.0098\n",
            "Epoch 40/100\n",
            "12/12 [==============================] - 2s 126ms/step - loss: 5.3549e-04 - val_loss: 0.0102\n",
            "Epoch 41/100\n",
            "12/12 [==============================] - 1s 122ms/step - loss: 5.4624e-04 - val_loss: 0.0102\n",
            "Epoch 42/100\n",
            "12/12 [==============================] - 1s 125ms/step - loss: 6.1457e-04 - val_loss: 0.0087\n",
            "Epoch 43/100\n",
            "12/12 [==============================] - 1s 122ms/step - loss: 8.4561e-04 - val_loss: 0.0092\n",
            "Epoch 44/100\n",
            "12/12 [==============================] - 1s 123ms/step - loss: 5.3405e-04 - val_loss: 0.0101\n",
            "Epoch 45/100\n",
            "12/12 [==============================] - 1s 122ms/step - loss: 5.2463e-04 - val_loss: 0.0090\n",
            "Epoch 46/100\n",
            "12/12 [==============================] - 1s 119ms/step - loss: 5.1231e-04 - val_loss: 0.0086\n",
            "Epoch 47/100\n",
            "12/12 [==============================] - 1s 125ms/step - loss: 6.2722e-04 - val_loss: 0.0096\n",
            "Epoch 48/100\n",
            "12/12 [==============================] - 1s 124ms/step - loss: 6.3976e-04 - val_loss: 0.0086\n",
            "Epoch 49/100\n",
            "12/12 [==============================] - 2s 131ms/step - loss: 5.0226e-04 - val_loss: 0.0085\n",
            "Epoch 50/100\n",
            "12/12 [==============================] - 2s 145ms/step - loss: 5.1336e-04 - val_loss: 0.0075\n",
            "Epoch 51/100\n",
            "12/12 [==============================] - 2s 205ms/step - loss: 5.3348e-04 - val_loss: 0.0079\n",
            "Epoch 52/100\n",
            "12/12 [==============================] - 2s 126ms/step - loss: 4.7050e-04 - val_loss: 0.0073\n",
            "Epoch 53/100\n",
            "12/12 [==============================] - 2s 127ms/step - loss: 4.6706e-04 - val_loss: 0.0069\n",
            "Epoch 54/100\n",
            "12/12 [==============================] - 1s 124ms/step - loss: 4.4068e-04 - val_loss: 0.0071\n",
            "Epoch 55/100\n",
            "12/12 [==============================] - 1s 124ms/step - loss: 4.7754e-04 - val_loss: 0.0064\n",
            "Epoch 56/100\n",
            "12/12 [==============================] - 1s 123ms/step - loss: 5.2269e-04 - val_loss: 0.0070\n",
            "Epoch 57/100\n",
            "12/12 [==============================] - 1s 122ms/step - loss: 4.6170e-04 - val_loss: 0.0063\n",
            "Epoch 58/100\n",
            "12/12 [==============================] - 1s 122ms/step - loss: 4.3958e-04 - val_loss: 0.0065\n",
            "Epoch 59/100\n",
            "12/12 [==============================] - 1s 121ms/step - loss: 4.5072e-04 - val_loss: 0.0063\n",
            "Epoch 60/100\n",
            "12/12 [==============================] - 1s 121ms/step - loss: 4.3982e-04 - val_loss: 0.0063\n",
            "Epoch 61/100\n",
            "12/12 [==============================] - 1s 122ms/step - loss: 4.0992e-04 - val_loss: 0.0058\n",
            "Epoch 62/100\n",
            "12/12 [==============================] - 1s 120ms/step - loss: 4.4244e-04 - val_loss: 0.0060\n",
            "Epoch 63/100\n",
            "12/12 [==============================] - 1s 120ms/step - loss: 4.6630e-04 - val_loss: 0.0059\n",
            "Epoch 64/100\n",
            "12/12 [==============================] - 1s 122ms/step - loss: 4.1188e-04 - val_loss: 0.0064\n",
            "Epoch 65/100\n",
            "12/12 [==============================] - 1s 126ms/step - loss: 4.8674e-04 - val_loss: 0.0057\n",
            "Epoch 66/100\n",
            "12/12 [==============================] - 1s 122ms/step - loss: 4.9594e-04 - val_loss: 0.0062\n",
            "Epoch 67/100\n",
            "12/12 [==============================] - 1s 125ms/step - loss: 4.3753e-04 - val_loss: 0.0058\n",
            "Epoch 68/100\n",
            "12/12 [==============================] - 2s 126ms/step - loss: 4.1599e-04 - val_loss: 0.0058\n",
            "Epoch 69/100\n",
            "12/12 [==============================] - 1s 122ms/step - loss: 3.8990e-04 - val_loss: 0.0055\n",
            "Epoch 70/100\n",
            "12/12 [==============================] - 1s 121ms/step - loss: 4.2267e-04 - val_loss: 0.0055\n",
            "Epoch 71/100\n",
            "12/12 [==============================] - 1s 123ms/step - loss: 4.1493e-04 - val_loss: 0.0055\n",
            "Epoch 72/100\n",
            "12/12 [==============================] - 2s 128ms/step - loss: 3.7904e-04 - val_loss: 0.0056\n",
            "Epoch 73/100\n",
            "12/12 [==============================] - 2s 126ms/step - loss: 4.4122e-04 - val_loss: 0.0054\n",
            "Epoch 74/100\n",
            "12/12 [==============================] - 1s 125ms/step - loss: 3.6781e-04 - val_loss: 0.0053\n",
            "Epoch 75/100\n",
            "12/12 [==============================] - 1s 125ms/step - loss: 3.8201e-04 - val_loss: 0.0050\n",
            "Epoch 76/100\n",
            "12/12 [==============================] - 1s 124ms/step - loss: 4.0352e-04 - val_loss: 0.0054\n",
            "Epoch 77/100\n",
            "12/12 [==============================] - 2s 129ms/step - loss: 4.1117e-04 - val_loss: 0.0053\n",
            "Epoch 78/100\n",
            "12/12 [==============================] - 2s 129ms/step - loss: 3.5707e-04 - val_loss: 0.0052\n",
            "Epoch 79/100\n",
            "12/12 [==============================] - 2s 128ms/step - loss: 3.6082e-04 - val_loss: 0.0051\n",
            "Epoch 80/100\n",
            "12/12 [==============================] - 1s 124ms/step - loss: 3.5201e-04 - val_loss: 0.0049\n",
            "Epoch 81/100\n",
            "12/12 [==============================] - 1s 126ms/step - loss: 3.6755e-04 - val_loss: 0.0053\n",
            "Epoch 82/100\n",
            "12/12 [==============================] - 1s 125ms/step - loss: 3.5659e-04 - val_loss: 0.0052\n",
            "Epoch 83/100\n",
            "12/12 [==============================] - 1s 122ms/step - loss: 3.8068e-04 - val_loss: 0.0051\n",
            "Epoch 84/100\n",
            "12/12 [==============================] - 1s 125ms/step - loss: 3.6620e-04 - val_loss: 0.0052\n",
            "Epoch 85/100\n",
            "12/12 [==============================] - 1s 119ms/step - loss: 3.3812e-04 - val_loss: 0.0051\n",
            "Epoch 86/100\n",
            "12/12 [==============================] - 1s 126ms/step - loss: 3.4739e-04 - val_loss: 0.0051\n",
            "Epoch 87/100\n",
            "12/12 [==============================] - 2s 144ms/step - loss: 3.8339e-04 - val_loss: 0.0050\n",
            "Epoch 88/100\n",
            "12/12 [==============================] - 2s 153ms/step - loss: 4.3526e-04 - val_loss: 0.0054\n",
            "Epoch 89/100\n",
            "12/12 [==============================] - 1s 122ms/step - loss: 3.6713e-04 - val_loss: 0.0052\n",
            "Epoch 90/100\n",
            "12/12 [==============================] - 1s 124ms/step - loss: 3.5319e-04 - val_loss: 0.0052\n",
            "Epoch 91/100\n",
            "12/12 [==============================] - 1s 124ms/step - loss: 3.3550e-04 - val_loss: 0.0050\n",
            "Epoch 92/100\n",
            "12/12 [==============================] - 1s 121ms/step - loss: 3.2943e-04 - val_loss: 0.0049\n",
            "Epoch 93/100\n",
            "12/12 [==============================] - 2s 126ms/step - loss: 5.0806e-04 - val_loss: 0.0050\n",
            "Epoch 94/100\n",
            "12/12 [==============================] - 2s 128ms/step - loss: 3.4578e-04 - val_loss: 0.0048\n",
            "Epoch 95/100\n",
            "12/12 [==============================] - 1s 120ms/step - loss: 3.4181e-04 - val_loss: 0.0047\n",
            "Epoch 96/100\n",
            "12/12 [==============================] - 1s 119ms/step - loss: 3.0746e-04 - val_loss: 0.0047\n",
            "Epoch 97/100\n",
            "12/12 [==============================] - 1s 122ms/step - loss: 3.1769e-04 - val_loss: 0.0047\n",
            "Epoch 98/100\n",
            "12/12 [==============================] - 1s 123ms/step - loss: 3.7288e-04 - val_loss: 0.0048\n",
            "Epoch 99/100\n",
            "12/12 [==============================] - 1s 122ms/step - loss: 4.6690e-04 - val_loss: 0.0051\n",
            "Epoch 100/100\n",
            "12/12 [==============================] - 1s 120ms/step - loss: 3.9937e-04 - val_loss: 0.0050\n"
          ]
        },
        {
          "data": {
            "text/plain": [
              "<keras.callbacks.History at 0x7f2583d07210>"
            ]
          },
          "execution_count": 77,
          "metadata": {},
          "output_type": "execute_result"
        }
      ],
      "source": [
        "model.fit(X_train,y_train,validation_data=(X_test,ytest),epochs=100,batch_size=64,verbose=1)"
      ]
    },
    {
      "cell_type": "code",
      "execution_count": null,
      "metadata": {
        "colab": {
          "background_save": true
        },
        "id": "upxPpATSjs6W"
      },
      "outputs": [],
      "source": [
        "import tensorflow as tf"
      ]
    },
    {
      "cell_type": "code",
      "execution_count": null,
      "metadata": {
        "colab": {
          "background_save": true
        },
        "id": "hTGaJDJDjuUG",
        "outputId": "ce6e9a7c-3cda-494f-b38a-23f4303c1224"
      },
      "outputs": [
        {
          "name": "stdout",
          "output_type": "stream",
          "text": [
            "23/23 [==============================] - 2s 22ms/step\n",
            "11/11 [==============================] - 0s 22ms/step\n"
          ]
        }
      ],
      "source": [
        "### Lets Do the prediction and check performance metrics\n",
        "train_predict=model.predict(X_train)\n",
        "test_predict=model.predict(X_test)"
      ]
    },
    {
      "cell_type": "code",
      "execution_count": null,
      "metadata": {
        "colab": {
          "background_save": true
        },
        "id": "gUD9ehfDjvt2"
      },
      "outputs": [],
      "source": [
        "##Transformback to original form\n",
        "train_predict=scaler.inverse_transform(train_predict)\n",
        "test_predict=scaler.inverse_transform(test_predict)"
      ]
    },
    {
      "cell_type": "code",
      "execution_count": null,
      "metadata": {
        "colab": {
          "background_save": true
        },
        "id": "AHYLtpHjjxQV",
        "outputId": "3243207e-2479-4db5-d04d-f06e6e8211cb"
      },
      "outputs": [
        {
          "data": {
            "text/plain": [
              "293.4515792674892"
            ]
          },
          "execution_count": 81,
          "metadata": {},
          "output_type": "execute_result"
        }
      ],
      "source": [
        "### Calculate RMSE performance metrics\n",
        "import math\n",
        "from sklearn.metrics import mean_squared_error\n",
        "math.sqrt(mean_squared_error(y_train,train_predict))"
      ]
    },
    {
      "cell_type": "code",
      "execution_count": null,
      "metadata": {
        "colab": {
          "background_save": true
        },
        "id": "gnDgVxY5jzWH",
        "outputId": "fd93150a-f7f2-418a-9884-de90bb64df26"
      },
      "outputs": [
        {
          "data": {
            "text/plain": [
              "278.5631422665583"
            ]
          },
          "execution_count": 82,
          "metadata": {},
          "output_type": "execute_result"
        }
      ],
      "source": [
        "### Test Data RMSE\n",
        "math.sqrt(mean_squared_error(ytest,test_predict))"
      ]
    },
    {
      "cell_type": "code",
      "execution_count": null,
      "metadata": {
        "colab": {
          "background_save": true
        },
        "id": "gKxdvfwJj02j",
        "outputId": "04934f95-68b3-48dd-83bf-8240ca1ce0a5"
      },
      "outputs": [
        {
          "data": {
            "image/png": "[encoded data removed]",
            "text/plain": [
              "<Figure size 432x288 with 1 Axes>"
            ]
          },
          "metadata": {},
          "output_type": "display_data"
        }
      ],
      "source": [
        "### Plotting \n",
        "# shift train predictions for plotting\n",
        "look_back=100\n",
        "trainPredictPlot = numpy.empty_like(df1)\n",
        "trainPredictPlot[:, :] = np.nan\n",
        "trainPredictPlot[look_back:len(train_predict)+look_back, :] = train_predict\n",
        "# shift test predictions for plotting\n",
        "testPredictPlot = numpy.empty_like(df1)\n",
        "testPredictPlot[:, :] = numpy.nan\n",
        "testPredictPlot[len(train_predict)+(look_back*2)+1:len(df1)-1, :] = test_predict\n",
        "# plot baseline and predictions\n",
        "plt.plot(scaler.inverse_transform(df1))\n",
        "plt.plot(trainPredictPlot)\n",
        "plt.plot(testPredictPlot)\n",
        "plt.show()"
      ]
    },
    {
      "cell_type": "code",
      "execution_count": null,
      "metadata": {
        "colab": {
          "background_save": true
        },
        "id": "9T12upnLlBVx",
        "outputId": "06acc6cb-6ddb-4ff1-844d-c8217f5aefeb"
      },
      "outputs": [
        {
          "data": {
            "text/plain": [
              "441"
            ]
          },
          "execution_count": 84,
          "metadata": {},
          "output_type": "execute_result"
        }
      ],
      "source": [
        "len(test_data)"
      ]
    },
    {
      "cell_type": "code",
      "execution_count": null,
      "metadata": {
        "colab": {
          "background_save": true
        },
        "id": "7mZVGgIvkMlN",
        "outputId": "7db09cd5-ed03-42fa-c9ed-99eb7e1c66fd"
      },
      "outputs": [
        {
          "data": {
            "text/plain": [
              "(1, 101)"
            ]
          },
          "execution_count": 85,
          "metadata": {},
          "output_type": "execute_result"
        }
      ],
      "source": [
        "x_input=test_data[340:].reshape(1,-1)\n",
        "x_input.shape"
      ]
    },
    {
      "cell_type": "code",
      "execution_count": null,
      "metadata": {
        "colab": {
          "background_save": true
        },
        "id": "AeKaGDngkjG3"
      },
      "outputs": [],
      "source": [
        "temp_input=list(x_input)\n",
        "temp_input=temp_input[0].tolist()"
      ]
    },
    {
      "cell_type": "code",
      "execution_count": null,
      "metadata": {
        "colab": {
          "background_save": true
        },
        "id": "IywZQleIkl1w",
        "outputId": "7921739d-56d1-4ea4-906a-a30ad4fc1b39"
      },
      "outputs": [
        {
          "name": "stdout",
          "output_type": "stream",
          "text": [
            "0 day input [0.09910992 0.11688348 0.10469909 0.10562131 0.10757751 0.10369304\n",
            " 0.09530929 0.08030237 0.06176031 0.06440119 0.07405648 0.06111755\n",
            " 0.065016   0.07460142 0.071723   0.06983666 0.08242626 0.07883522\n",
            " 0.06644124 0.06029315 0.05494152 0.04605475 0.0522168  0.05453631\n",
            " 0.06470859 0.06442914 0.05484371 0.05386561 0.05501139 0.05791776\n",
            " 0.06336719 0.06810401 0.08055389 0.09194182 0.09533724 0.08512303\n",
            " 0.08100102 0.07414032 0.09170428 0.09441502 0.09691618 0.10080065\n",
            " 0.10198835 0.10711641 0.11161569 0.10845781 0.0917462  0.08186734\n",
            " 0.09599396 0.09382816 0.10454539 0.10905864 0.10692079 0.09931952\n",
            " 0.10543966 0.09252868 0.08114075 0.08319477 0.08376766 0.09342295\n",
            " 0.07032571 0.06391214 0.05925916 0.05403328 0.03786661 0.03381447\n",
            " 0.0312714  0.03475065 0.03860718 0.04415443 0.04580323 0.02660444\n",
            " 0.02656252 0.02378191 0.02754063 0.03011164 0.02723322 0.02842092\n",
            " 0.01863988 0.01801109 0.01398689 0.01657188 0.02108514 0.01387511\n",
            " 0.0127433  0.0179552  0.02710747 0.02769433 0.02659047 0.01186301\n",
            " 0.00619    0.00501628 0.00381461 0.01024215 0.         0.0092361\n",
            " 0.01033996 0.01151369 0.01351181 0.01731245]\n",
            "0 day output [[0.00866795]]\n",
            "1 day input [0.11688348 0.10469909 0.10562131 0.10757751 0.10369304 0.09530929\n",
            " 0.08030237 0.06176031 0.06440119 0.07405648 0.06111755 0.065016\n",
            " 0.07460142 0.071723   0.06983666 0.08242626 0.07883522 0.06644124\n",
            " 0.06029315 0.05494152 0.04605475 0.0522168  0.05453631 0.06470859\n",
            " 0.06442914 0.05484371 0.05386561 0.05501139 0.05791776 0.06336719\n",
            " 0.06810401 0.08055389 0.09194182 0.09533724 0.08512303 0.08100102\n",
            " 0.07414032 0.09170428 0.09441502 0.09691618 0.10080065 0.10198835\n",
            " 0.10711641 0.11161569 0.10845781 0.0917462  0.08186734 0.09599396\n",
            " 0.09382816 0.10454539 0.10905864 0.10692079 0.09931952 0.10543966\n",
            " 0.09252868 0.08114075 0.08319477 0.08376766 0.09342295 0.07032571\n",
            " 0.06391214 0.05925916 0.05403328 0.03786661 0.03381447 0.0312714\n",
            " 0.03475065 0.03860718 0.04415443 0.04580323 0.02660444 0.02656252\n",
            " 0.02378191 0.02754063 0.03011164 0.02723322 0.02842092 0.01863988\n",
            " 0.01801109 0.01398689 0.01657188 0.02108514 0.01387511 0.0127433\n",
            " 0.0179552  0.02710747 0.02769433 0.02659047 0.01186301 0.00619\n",
            " 0.00501628 0.00381461 0.01024215 0.         0.0092361  0.01033996\n",
            " 0.01151369 0.01351181 0.01731245 0.00866795]\n",
            "1 day output [[0.01011663]]\n",
            "2 day input [0.10469909 0.10562131 0.10757751 0.10369304 0.09530929 0.08030237\n",
            " 0.06176031 0.06440119 0.07405648 0.06111755 0.065016   0.07460142\n",
            " 0.071723   0.06983666 0.08242626 0.07883522 0.06644124 0.06029315\n",
            " 0.05494152 0.04605475 0.0522168  0.05453631 0.06470859 0.06442914\n",
            " 0.05484371 0.05386561 0.05501139 0.05791776 0.06336719 0.06810401\n",
            " 0.08055389 0.09194182 0.09533724 0.08512303 0.08100102 0.07414032\n",
            " 0.09170428 0.09441502 0.09691618 0.10080065 0.10198835 0.10711641\n",
            " 0.11161569 0.10845781 0.0917462  0.08186734 0.09599396 0.09382816\n",
            " 0.10454539 0.10905864 0.10692079 0.09931952 0.10543966 0.09252868\n",
            " 0.08114075 0.08319477 0.08376766 0.09342295 0.07032571 0.06391214\n",
            " 0.05925916 0.05403328 0.03786661 0.03381447 0.0312714  0.03475065\n",
            " 0.03860718 0.04415443 0.04580323 0.02660444 0.02656252 0.02378191\n",
            " 0.02754063 0.03011164 0.02723322 0.02842092 0.01863988 0.01801109\n",
            " 0.01398689 0.01657188 0.02108514 0.01387511 0.0127433  0.0179552\n",
            " 0.02710747 0.02769433 0.02659047 0.01186301 0.00619    0.00501628\n",
            " 0.00381461 0.01024215 0.         0.0092361  0.01033996 0.01151369\n",
            " 0.01351181 0.01731245 0.00866795 0.01011663]\n",
            "2 day output [[0.01109269]]\n",
            "3 day input [0.10562131 0.10757751 0.10369304 0.09530929 0.08030237 0.06176031\n",
            " 0.06440119 0.07405648 0.06111755 0.065016   0.07460142 0.071723\n",
            " 0.06983666 0.08242626 0.07883522 0.06644124 0.06029315 0.05494152\n",
            " 0.04605475 0.0522168  0.05453631 0.06470859 0.06442914 0.05484371\n",
            " 0.05386561 0.05501139 0.05791776 0.06336719 0.06810401 0.08055389\n",
            " 0.09194182 0.09533724 0.08512303 0.08100102 0.07414032 0.09170428\n",
            " 0.09441502 0.09691618 0.10080065 0.10198835 0.10711641 0.11161569\n",
            " 0.10845781 0.0917462  0.08186734 0.09599396 0.09382816 0.10454539\n",
            " 0.10905864 0.10692079 0.09931952 0.10543966 0.09252868 0.08114075\n",
            " 0.08319477 0.08376766 0.09342295 0.07032571 0.06391214 0.05925916\n",
            " 0.05403328 0.03786661 0.03381447 0.0312714  0.03475065 0.03860718\n",
            " 0.04415443 0.04580323 0.02660444 0.02656252 0.02378191 0.02754063\n",
            " 0.03011164 0.02723322 0.02842092 0.01863988 0.01801109 0.01398689\n",
            " 0.01657188 0.02108514 0.01387511 0.0127433  0.0179552  0.02710747\n",
            " 0.02769433 0.02659047 0.01186301 0.00619    0.00501628 0.00381461\n",
            " 0.01024215 0.         0.0092361  0.01033996 0.01151369 0.01351181\n",
            " 0.01731245 0.00866795 0.01011663 0.01109269]\n",
            "3 day output [[0.01166436]]\n",
            "4 day input [0.10757751 0.10369304 0.09530929 0.08030237 0.06176031 0.06440119\n",
            " 0.07405648 0.06111755 0.065016   0.07460142 0.071723   0.06983666\n",
            " 0.08242626 0.07883522 0.06644124 0.06029315 0.05494152 0.04605475\n",
            " 0.0522168  0.05453631 0.06470859 0.06442914 0.05484371 0.05386561\n",
            " 0.05501139 0.05791776 0.06336719 0.06810401 0.08055389 0.09194182\n",
            " 0.09533724 0.08512303 0.08100102 0.07414032 0.09170428 0.09441502\n",
            " 0.09691618 0.10080065 0.10198835 0.10711641 0.11161569 0.10845781\n",
            " 0.0917462  0.08186734 0.09599396 0.09382816 0.10454539 0.10905864\n",
            " 0.10692079 0.09931952 0.10543966 0.09252868 0.08114075 0.08319477\n",
            " 0.08376766 0.09342295 0.07032571 0.06391214 0.05925916 0.05403328\n",
            " 0.03786661 0.03381447 0.0312714  0.03475065 0.03860718 0.04415443\n",
            " 0.04580323 0.02660444 0.02656252 0.02378191 0.02754063 0.03011164\n",
            " 0.02723322 0.02842092 0.01863988 0.01801109 0.01398689 0.01657188\n",
            " 0.02108514 0.01387511 0.0127433  0.0179552  0.02710747 0.02769433\n",
            " 0.02659047 0.01186301 0.00619    0.00501628 0.00381461 0.01024215\n",
            " 0.         0.0092361  0.01033996 0.01151369 0.01351181 0.01731245\n",
            " 0.00866795 0.01011663 0.01109269 0.01166436]\n",
            "4 day output [[0.01197411]]\n",
            "5 day input [0.10369304 0.09530929 0.08030237 0.06176031 0.06440119 0.07405648\n",
            " 0.06111755 0.065016   0.07460142 0.071723   0.06983666 0.08242626\n",
            " 0.07883522 0.06644124 0.06029315 0.05494152 0.04605475 0.0522168\n",
            " 0.05453631 0.06470859 0.06442914 0.05484371 0.05386561 0.05501139\n",
            " 0.05791776 0.06336719 0.06810401 0.08055389 0.09194182 0.09533724\n",
            " 0.08512303 0.08100102 0.07414032 0.09170428 0.09441502 0.09691618\n",
            " 0.10080065 0.10198835 0.10711641 0.11161569 0.10845781 0.0917462\n",
            " 0.08186734 0.09599396 0.09382816 0.10454539 0.10905864 0.10692079\n",
            " 0.09931952 0.10543966 0.09252868 0.08114075 0.08319477 0.08376766\n",
            " 0.09342295 0.07032571 0.06391214 0.05925916 0.05403328 0.03786661\n",
            " 0.03381447 0.0312714  0.03475065 0.03860718 0.04415443 0.04580323\n",
            " 0.02660444 0.02656252 0.02378191 0.02754063 0.03011164 0.02723322\n",
            " 0.02842092 0.01863988 0.01801109 0.01398689 0.01657188 0.02108514\n",
            " 0.01387511 0.0127433  0.0179552  0.02710747 0.02769433 0.02659047\n",
            " 0.01186301 0.00619    0.00501628 0.00381461 0.01024215 0.\n",
            " 0.0092361  0.01033996 0.01151369 0.01351181 0.01731245 0.00866795\n",
            " 0.01011663 0.01109269 0.01166436 0.01197411]\n",
            "5 day output [[0.01214507]]\n",
            "6 day input [0.09530929 0.08030237 0.06176031 0.06440119 0.07405648 0.06111755\n",
            " 0.065016   0.07460142 0.071723   0.06983666 0.08242626 0.07883522\n",
            " 0.06644124 0.06029315 0.05494152 0.04605475 0.0522168  0.05453631\n",
            " 0.06470859 0.06442914 0.05484371 0.05386561 0.05501139 0.05791776\n",
            " 0.06336719 0.06810401 0.08055389 0.09194182 0.09533724 0.08512303\n",
            " 0.08100102 0.07414032 0.09170428 0.09441502 0.09691618 0.10080065\n",
            " 0.10198835 0.10711641 0.11161569 0.10845781 0.0917462  0.08186734\n",
            " 0.09599396 0.09382816 0.10454539 0.10905864 0.10692079 0.09931952\n",
            " 0.10543966 0.09252868 0.08114075 0.08319477 0.08376766 0.09342295\n",
            " 0.07032571 0.06391214 0.05925916 0.05403328 0.03786661 0.03381447\n",
            " 0.0312714  0.03475065 0.03860718 0.04415443 0.04580323 0.02660444\n",
            " 0.02656252 0.02378191 0.02754063 0.03011164 0.02723322 0.02842092\n",
            " 0.01863988 0.01801109 0.01398689 0.01657188 0.02108514 0.01387511\n",
            " 0.0127433  0.0179552  0.02710747 0.02769433 0.02659047 0.01186301\n",
            " 0.00619    0.00501628 0.00381461 0.01024215 0.         0.0092361\n",
            " 0.01033996 0.01151369 0.01351181 0.01731245 0.00866795 0.01011663\n",
            " 0.01109269 0.01166436 0.01197411 0.01214507]\n",
            "6 day output [[0.01225816]]\n",
            "7 day input [0.08030237 0.06176031 0.06440119 0.07405648 0.06111755 0.065016\n",
            " 0.07460142 0.071723   0.06983666 0.08242626 0.07883522 0.06644124\n",
            " 0.06029315 0.05494152 0.04605475 0.0522168  0.05453631 0.06470859\n",
            " 0.06442914 0.05484371 0.05386561 0.05501139 0.05791776 0.06336719\n",
            " 0.06810401 0.08055389 0.09194182 0.09533724 0.08512303 0.08100102\n",
            " 0.07414032 0.09170428 0.09441502 0.09691618 0.10080065 0.10198835\n",
            " 0.10711641 0.11161569 0.10845781 0.0917462  0.08186734 0.09599396\n",
            " 0.09382816 0.10454539 0.10905864 0.10692079 0.09931952 0.10543966\n",
            " 0.09252868 0.08114075 0.08319477 0.08376766 0.09342295 0.07032571\n",
            " 0.06391214 0.05925916 0.05403328 0.03786661 0.03381447 0.0312714\n",
            " 0.03475065 0.03860718 0.04415443 0.04580323 0.02660444 0.02656252\n",
            " 0.02378191 0.02754063 0.03011164 0.02723322 0.02842092 0.01863988\n",
            " 0.01801109 0.01398689 0.01657188 0.02108514 0.01387511 0.0127433\n",
            " 0.0179552  0.02710747 0.02769433 0.02659047 0.01186301 0.00619\n",
            " 0.00501628 0.00381461 0.01024215 0.         0.0092361  0.01033996\n",
            " 0.01151369 0.01351181 0.01731245 0.00866795 0.01011663 0.01109269\n",
            " 0.01166436 0.01197411 0.01214507 0.01225816]\n",
            "7 day output [[0.01235777]]\n",
            "8 day input [0.06176031 0.06440119 0.07405648 0.06111755 0.065016   0.07460142\n",
            " 0.071723   0.06983666 0.08242626 0.07883522 0.06644124 0.06029315\n",
            " 0.05494152 0.04605475 0.0522168  0.05453631 0.06470859 0.06442914\n",
            " 0.05484371 0.05386561 0.05501139 0.05791776 0.06336719 0.06810401\n",
            " 0.08055389 0.09194182 0.09533724 0.08512303 0.08100102 0.07414032\n",
            " 0.09170428 0.09441502 0.09691618 0.10080065 0.10198835 0.10711641\n",
            " 0.11161569 0.10845781 0.0917462  0.08186734 0.09599396 0.09382816\n",
            " 0.10454539 0.10905864 0.10692079 0.09931952 0.10543966 0.09252868\n",
            " 0.08114075 0.08319477 0.08376766 0.09342295 0.07032571 0.06391214\n",
            " 0.05925916 0.05403328 0.03786661 0.03381447 0.0312714  0.03475065\n",
            " 0.03860718 0.04415443 0.04580323 0.02660444 0.02656252 0.02378191\n",
            " 0.02754063 0.03011164 0.02723322 0.02842092 0.01863988 0.01801109\n",
            " 0.01398689 0.01657188 0.02108514 0.01387511 0.0127433  0.0179552\n",
            " 0.02710747 0.02769433 0.02659047 0.01186301 0.00619    0.00501628\n",
            " 0.00381461 0.01024215 0.         0.0092361  0.01033996 0.01151369\n",
            " 0.01351181 0.01731245 0.00866795 0.01011663 0.01109269 0.01166436\n",
            " 0.01197411 0.01214507 0.01225816 0.01235777]\n",
            "8 day output [[0.01246471]]\n",
            "9 day input [0.06440119 0.07405648 0.06111755 0.065016   0.07460142 0.071723\n",
            " 0.06983666 0.08242626 0.07883522 0.06644124 0.06029315 0.05494152\n",
            " 0.04605475 0.0522168  0.05453631 0.06470859 0.06442914 0.05484371\n",
            " 0.05386561 0.05501139 0.05791776 0.06336719 0.06810401 0.08055389\n",
            " 0.09194182 0.09533724 0.08512303 0.08100102 0.07414032 0.09170428\n",
            " 0.09441502 0.09691618 0.10080065 0.10198835 0.10711641 0.11161569\n",
            " 0.10845781 0.0917462  0.08186734 0.09599396 0.09382816 0.10454539\n",
            " 0.10905864 0.10692079 0.09931952 0.10543966 0.09252868 0.08114075\n",
            " 0.08319477 0.08376766 0.09342295 0.07032571 0.06391214 0.05925916\n",
            " 0.05403328 0.03786661 0.03381447 0.0312714  0.03475065 0.03860718\n",
            " 0.04415443 0.04580323 0.02660444 0.02656252 0.02378191 0.02754063\n",
            " 0.03011164 0.02723322 0.02842092 0.01863988 0.01801109 0.01398689\n",
            " 0.01657188 0.02108514 0.01387511 0.0127433  0.0179552  0.02710747\n",
            " 0.02769433 0.02659047 0.01186301 0.00619    0.00501628 0.00381461\n",
            " 0.01024215 0.         0.0092361  0.01033996 0.01151369 0.01351181\n",
            " 0.01731245 0.00866795 0.01011663 0.01109269 0.01166436 0.01197411\n",
            " 0.01214507 0.01225816 0.01235777 0.01246471]\n",
            "9 day output [[0.0125872]]\n",
            "[[0.008667949587106705], [0.010116631165146828], [0.011092694476246834], [0.011664357036352158], [0.01197410561144352], [0.01214507408440113], [0.01225816085934639], [0.012357769533991814], [0.012464705854654312], [0.012587202712893486]]\n"
          ]
        }
      ],
      "source": [
        "# demonstrate prediction for next 10 days\n",
        "from numpy import array\n",
        "\n",
        "lst_output=[]\n",
        "n_steps=100\n",
        "i=0\n",
        "while(i<10):\n",
        "    \n",
        "    if(len(temp_input)>100):\n",
        "        #print(temp_input)\n",
        "        x_input=np.array(temp_input[1:])\n",
        "        print(\"{} day input {}\".format(i,x_input))\n",
        "        x_input=x_input.reshape(1,-1)\n",
        "        x_input = x_input.reshape((1, n_steps, 1))\n",
        "        #print(x_input)\n",
        "        yhat = model.predict(x_input, verbose=0)\n",
        "        print(\"{} day output {}\".format(i,yhat))\n",
        "        temp_input.extend(yhat[0].tolist())\n",
        "        temp_input=temp_input[1:]\n",
        "        #print(temp_input)\n",
        "        lst_output.extend(yhat.tolist())\n",
        "        i=i+1\n",
        "    else:\n",
        "        x_input = x_input.reshape((1, n_steps,1))\n",
        "        yhat = model.predict(x_input, verbose=0)\n",
        "        print(yhat[0])\n",
        "        temp_input.extend(yhat[0].tolist())\n",
        "        print(len(temp_input))\n",
        "        lst_output.extend(yhat.tolist())\n",
        "        i=i+1\n",
        "    \n",
        "\n",
        "print(lst_output)"
      ]
    },
    {
      "cell_type": "code",
      "execution_count": null,
      "metadata": {
        "id": "UP3pfj5vlTtW"
      },
      "outputs": [],
      "source": [
        "##print(scaler.inverse_transform(lst_output))\n",
        "dates = [0,1,2,3,4,5,6,7,8,9]\n",
        "data = pd.DataFrame(scaler.inverse_transform(lst_output).round(2),dates,columns=['Close'])"
      ]
    },
    {
      "cell_type": "code",
      "source": [
        "from google.colab import files\n",
        "\n",
        "data.to_csv('Tan Sher Yew_Impl_1.csv', encoding = 'utf-8-sig') \n",
        "files.download('Tan Sher Yew_Impl_1.csv')"
      ],
      "metadata": {
        "colab": {
          "base_uri": "https://localhost:8080/",
          "height": 17
        },
        "id": "HADEpk04q4KZ",
        "outputId": "6f52cd9a-e236-423e-801b-3cacbbd9fc0a"
      },
      "execution_count": null,
      "outputs": [
        {
          "output_type": "display_data",
          "data": {
            "text/plain": [
              "<IPython.core.display.Javascript object>"
            ],
            "application/javascript": [
              "\n",
              "    async function download(id, filename, size) {\n",
              "      if (!google.colab.kernel.accessAllowed) {\n",
              "        return;\n",
              "      }\n",
              "      const div = document.createElement('div');\n",
              "      const label = document.createElement('label');\n",
              "      label.textContent = `Downloading \"${filename}\": `;\n",
              "      div.appendChild(label);\n",
              "      const progress = document.createElement('progress');\n",
              "      progress.max = size;\n",
              "      div.appendChild(progress);\n",
              "      document.body.appendChild(div);\n",
              "\n",
              "      const buffers = [];\n",
              "      let downloaded = 0;\n",
              "\n",
              "      const channel = await google.colab.kernel.comms.open(id);\n",
              "      // Send a message to notify the kernel that we're ready.\n",
              "      channel.send({})\n",
              "\n",
              "      for await (const message of channel.messages) {\n",
              "        // Send a message to notify the kernel that we're ready.\n",
              "        channel.send({})\n",
              "        if (message.buffers) {\n",
              "          for (const buffer of message.buffers) {\n",
              "            buffers.push(buffer);\n",
              "            downloaded += buffer.byteLength;\n",
              "            progress.value = downloaded;\n",
              "          }\n",
              "        }\n",
              "      }\n",
              "      const blob = new Blob(buffers, {type: 'application/binary'});\n",
              "      const a = document.createElement('a');\n",
              "      a.href = window.URL.createObjectURL(blob);\n",
              "      a.download = filename;\n",
              "      div.appendChild(a);\n",
              "      a.click();\n",
              "      div.remove();\n",
              "    }\n",
              "  "
            ]
          },
          "metadata": {}
        },
        {
          "output_type": "display_data",
          "data": {
            "text/plain": [
              "<IPython.core.display.Javascript object>"
            ],
            "application/javascript": [
              "download(\"download_d8b6d35f-4d41-4b07-9c8b-1fc2588e6b40\", \"Tan Sher Yew_Impl_1.csv\", 206)"
            ]
          },
          "metadata": {}
        }
      ]
    }
  ],
  "metadata": {
    "colab": {
      "collapsed_sections": [],
      "toc_visible": true,
      "provenance": []
    },
    "kernelspec": {
      "display_name": "Python 3",
      "name": "python3"
    },
    "language_info": {
      "name": "python"
    }
  },
  "nbformat": 4,
  "nbformat_minor": 0
}