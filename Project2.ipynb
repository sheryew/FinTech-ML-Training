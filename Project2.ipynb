{
  "nbformat": 4,
  "nbformat_minor": 0,
  "metadata": {
    "colab": {
      "provenance": []
    },
    "kernelspec": {
      "name": "python3",
      "display_name": "Python 3"
    },
    "language_info": {
      "name": "python"
    }
  },
  "cells": [
    {
      "cell_type": "code",
      "execution_count": 62,
      "metadata": {
        "id": "uo-xgZBx70dW"
      },
      "outputs": [],
      "source": [
        "import pandas as pd\n",
        "from gensim.models.word2vec import Word2Vec\n",
        "import numpy as np\n",
        "from sklearn.ensemble import RandomForestClassifier\n",
        "import re, string\n",
        "from matplotlib.pyplot import *\n",
        "df = pd.read_csv(\"stock_data.csv\")\n",
        "split = 0.7\n",
        "df_train = df[:int(split*len(df))]\n",
        "df_test = df[int((1-split)*len(df)):]"
      ]
    },
    {
      "cell_type": "code",
      "source": [
        "import re, string\n",
        "stop_words = set(['all', \"she'll\", \"don't\", 'being', 'over', 'through', \n",
        "'yourselves', 'its', 'before', \"he's\", \"when's\", \"we've\", 'had', 'should',\n",
        "\"he'd\", 'to', 'only', \"there's\", 'those', 'under', 'ours', 'has', \n",
        "\"haven't\", 'do', 'them', 'his', \"they'll\", 'very', \"who's\", \"they'd\", \n",
        "'cannot', \"you've\", 'they', 'not', 'during', 'yourself', 'him', 'nor', \n",
        "\"we'll\", 'did', \"they've\", 'this', 'she', 'each', \"won't\", 'where', \n",
        "\"mustn't\", \"isn't\", \"i'll\", \"why's\", 'because', \"you'd\", 'doing', 'some', \n",
        "'up', 'are', 'further', 'ourselves', 'out', 'what', 'for', 'while', \n",
        "\"wasn't\", 'does', \"shouldn't\", 'above', 'between', 'be', 'we', 'who', \n",
        "\"you're\", 'were', 'here', 'hers', \"aren't\", 'by', 'both', 'about', 'would', \n",
        "'of', 'could', 'against', \"i'd\", \"weren't\", \"i'm\", 'or', \"can't\", 'own', \n",
        "'into', 'whom', 'down', \"hadn't\", \"couldn't\", 'your', \"doesn't\", 'from', \n",
        "\"how's\", 'her', 'their', \"it's\", 'there', 'been', 'why', 'few', 'too', \n",
        "'themselves', 'was', 'until', 'more', 'himself', \"where's\", \"i've\", 'with', \n",
        "\"didn't\", \"what's\", 'but', 'herself', 'than', \"here's\", 'he', 'me', \n",
        "\"they're\", 'myself', 'these', \"hasn't\", 'below', 'ought', 'theirs', 'my', \n",
        "\"wouldn't\", \"we'd\", 'and', 'then', 'is', 'am', 'it', 'an', 'as', 'itself', \n",
        "'at', 'have', 'in', 'any', 'if', 'again', 'no', 'that', 'when', 'same', \n",
        "'how', 'other', 'which', 'you', \"shan't\", 'our', 'after', \"let's\", 'most', \n",
        "'such', 'on', \"he'll\", 'a', 'off', 'i', \"she'd\", 'yours', \"you'll\", 'so', \n",
        "\"we're\", \"she's\", 'the', \"that's\", 'having', 'once'])\n",
        "def tokenize(docs):\n",
        "  pattern = re.compile('[\\W_]+', re.UNICODE)\n",
        "  sentences = []\n",
        "  for d in docs:\n",
        "    sentence = d.lower().split(\" \")\n",
        "    sentence = [pattern.sub('', w) for w in sentence]\n",
        "    sentences.append( [w for w in sentence if w not in stop_words] )\n",
        "  return sentences"
      ],
      "metadata": {
        "id": "tIOtonXpAbWb"
      },
      "execution_count": 63,
      "outputs": []
    },
    {
      "cell_type": "code",
      "source": [
        "sentences = tokenize(df_train.Text)\n",
        "model = Word2Vec(sentences, size=300, window=10, min_count=1,\n",
        "   sample=1e-3, workers=2)\n",
        "model.init_sims(replace=True)"
      ],
      "metadata": {
        "id": "YpyG0_fCA0Zt"
      },
      "execution_count": 64,
      "outputs": []
    },
    {
      "cell_type": "code",
      "source": [
        "def featurize_w2v(model, sentences):\n",
        "  f = np.zeros((len(sentences), model.vector_size))\n",
        "  for i,s in enumerate(sentences):\n",
        "    for w in s:\n",
        "      try:\n",
        "        vec = model[w]\n",
        "      except KeyError:\n",
        "        continue\n",
        "      f[i,:] = f[i,:] + vec\n",
        "    f[i,:] = f[i,:] / len(s)\n",
        "  return f"
      ],
      "metadata": {
        "id": "TvqyNiQWA5Wy"
      },
      "execution_count": 65,
      "outputs": []
    },
    {
      "cell_type": "code",
      "source": [
        "features_w2v = featurize_w2v(model, sentences)\n",
        "\n",
        "model4 = RandomForestClassifier(n_estimators=100, n_jobs=-1)\n",
        "model4.fit(features_w2v, df_train.Sentiment)\n",
        "\n",
        "test_sentences = tokenize(df_test.Text)\n",
        "test_features_w2v = featurize_w2v(model, test_sentences)\n",
        "pred4 = model4.predict_proba(test_features_w2v)\n",
        "performance(df_test.Sentiment, pred4, color=\"c\")"
      ],
      "metadata": {
        "colab": {
          "base_uri": "https://localhost:8080/",
          "height": 353
        },
        "id": "IEzazfedBDbu",
        "outputId": "63b1487d-e32e-4aa3-b4ae-2d3e2be9b818"
      },
      "execution_count": 66,
      "outputs": [
        {
          "output_type": "stream",
          "name": "stderr",
          "text": [
            "<ipython-input-65-23269ea32f13>:6: DeprecationWarning: Call to deprecated `__getitem__` (Method will be removed in 4.0.0, use self.wv.__getitem__() instead).\n",
            "  vec = model[w]\n",
            "<ipython-input-65-23269ea32f13>:6: DeprecationWarning: Call to deprecated `__getitem__` (Method will be removed in 4.0.0, use self.wv.__getitem__() instead).\n",
            "  vec = model[w]\n"
          ]
        },
        {
          "output_type": "display_data",
          "data": {
            "text/plain": [
              "<Figure size 432x288 with 1 Axes>"
            ],
            "image/png": "[encoded data removed]"
          },
          "metadata": {
            "needs_background": "light"
          }
        }
      ]
    }
  ]
}